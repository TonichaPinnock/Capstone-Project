{
    "cells": [
        {
            "metadata": {},
            "cell_type": "code",
            "source": "!pip install folium",
            "execution_count": 1,
            "outputs": [
                {
                    "output_type": "stream",
                    "text": "Requirement already satisfied: folium in /opt/conda/envs/Python36/lib/python3.6/site-packages (0.11.0)\nRequirement already satisfied: branca>=0.3.0 in /opt/conda/envs/Python36/lib/python3.6/site-packages (from folium) (0.4.1)\nRequirement already satisfied: numpy in /opt/conda/envs/Python36/lib/python3.6/site-packages (from folium) (1.15.4)\nRequirement already satisfied: requests in /opt/conda/envs/Python36/lib/python3.6/site-packages (from folium) (2.21.0)\nRequirement already satisfied: jinja2>=2.9 in /opt/conda/envs/Python36/lib/python3.6/site-packages (from folium) (2.10)\nRequirement already satisfied: idna<2.9,>=2.5 in /opt/conda/envs/Python36/lib/python3.6/site-packages (from requests->folium) (2.8)\nRequirement already satisfied: chardet<3.1.0,>=3.0.2 in /opt/conda/envs/Python36/lib/python3.6/site-packages (from requests->folium) (3.0.4)\nRequirement already satisfied: certifi>=2017.4.17 in /opt/conda/envs/Python36/lib/python3.6/site-packages (from requests->folium) (2020.4.5.1)\nRequirement already satisfied: urllib3<1.25,>=1.21.1 in /opt/conda/envs/Python36/lib/python3.6/site-packages (from requests->folium) (1.24.1)\nRequirement already satisfied: MarkupSafe>=0.23 in /opt/conda/envs/Python36/lib/python3.6/site-packages (from jinja2>=2.9->folium) (1.1.0)\n",
                    "name": "stdout"
                }
            ]
        },
        {
            "metadata": {},
            "cell_type": "code",
            "source": "# Importing the necessary libraries\nimport pandas as pd\nimport numpy as np\nimport requests\nimport json\nfrom bs4 import BeautifulSoup\nimport re\nfrom geopy.geocoders import Nominatim\nimport pprint\nimport folium\nfrom folium.features import DivIcon\nfrom folium import IFrame\nimport matplotlib.pyplot as plt\nfrom IPython.display import display\nfrom sklearn.cluster import KMeans\nfrom pandas.io.json import json_normalize",
            "execution_count": 2,
            "outputs": []
        },
        {
            "metadata": {},
            "cell_type": "code",
            "source": "# Four Square credentials\nclient_id = '1Y3CSAV1RDTMXIWPD3KQRUGYECV5E3H51M02Y3GGB0XZ1Z0B'\nclient_secret = 'PL2BXG3QUXGXJX4DSH4EJR3OQBOXGM01W0JV0PEL0U5POM0K'\nversion = '20200616'\n\n# OpenCage Geocoding API key\nmy_api_key = \"2b116591bf4b4f43a9e5e93d8ebec3f4\"\n\n# Zillow ZWSID\nzwsid = \"X1-ZWz1huhybd1zwr_3if65\"",
            "execution_count": 4,
            "outputs": []
        },
        {
            "metadata": {},
            "cell_type": "code",
            "source": "#Import data on New York's suburbs\nimport types\nimport pandas as pd\nfrom botocore.client import Config\nimport ibm_boto3\n\ndef __iter__(self): return 0\n\n# @hidden_cell\n# The following code accesses a file in your IBM Cloud Object Storage. It includes your credentials.\n# You might want to remove those credentials before you share the notebook.\nclient_d28cd095fcc94487a2c93b7aa439436b = ibm_boto3.client(service_name='s3',\n    ibm_api_key_id='WGU7Po5eFfpzidO_Bsoy4cUm5Hea3sLtSgSUVNWhmcsf',\n    ibm_auth_endpoint=\"https://iam.cloud.ibm.com/oidc/token\",\n    config=Config(signature_version='oauth'),\n    endpoint_url='https://s3-api.us-geo.objectstorage.service.networklayer.com')\n\nbody = client_d28cd095fcc94487a2c93b7aa439436b.get_object(Bucket='finalcapstoneproject-donotdelete-pr-pxamz4pxuyfikp',Key='counties 2.csv')['Body']\n# add missing __iter__ method, so pandas accepts body as file-like object\nif not hasattr(body, \"__iter__\"): body.__iter__ = types.MethodType( __iter__, body )\n\ndf_data_1 = pd.read_csv(body)\ndf_data_1.head()\n",
            "execution_count": 24,
            "outputs": [
                {
                    "output_type": "execute_result",
                    "execution_count": 24,
                    "data": {
                        "text/plain": "                County  Population  Median Home Value    Density  Unnamed: 4  \\\n0    Monmouth Junction      3302.0            40700.0  Rural mix         NaN   \n1            Hartsdale      4822.0           280200.0      Urban         NaN   \n2  Bedminster Township      8112.0           382800.0      Dense         NaN   \n3               Dayton      7340.0           385400.0     Sparse         NaN   \n4         Kendall Park      9346.0           397100.0     Sparse         NaN   \n\n   Unnamed: 5  Unnamed: 6  Unnamed: 7  Unnamed: 8  \n0         NaN         NaN         NaN         NaN  \n1         NaN         NaN         NaN         NaN  \n2         NaN         NaN         NaN         NaN  \n3         NaN         NaN         NaN         NaN  \n4         NaN         NaN         NaN         NaN  ",
                        "text/html": "<div>\n<style scoped>\n    .dataframe tbody tr th:only-of-type {\n        vertical-align: middle;\n    }\n\n    .dataframe tbody tr th {\n        vertical-align: top;\n    }\n\n    .dataframe thead th {\n        text-align: right;\n    }\n</style>\n<table border=\"1\" class=\"dataframe\">\n  <thead>\n    <tr style=\"text-align: right;\">\n      <th></th>\n      <th>County</th>\n      <th>Population</th>\n      <th>Median Home Value</th>\n      <th>Density</th>\n      <th>Unnamed: 4</th>\n      <th>Unnamed: 5</th>\n      <th>Unnamed: 6</th>\n      <th>Unnamed: 7</th>\n      <th>Unnamed: 8</th>\n    </tr>\n  </thead>\n  <tbody>\n    <tr>\n      <th>0</th>\n      <td>Monmouth Junction</td>\n      <td>3302.0</td>\n      <td>40700.0</td>\n      <td>Rural mix</td>\n      <td>NaN</td>\n      <td>NaN</td>\n      <td>NaN</td>\n      <td>NaN</td>\n      <td>NaN</td>\n    </tr>\n    <tr>\n      <th>1</th>\n      <td>Hartsdale</td>\n      <td>4822.0</td>\n      <td>280200.0</td>\n      <td>Urban</td>\n      <td>NaN</td>\n      <td>NaN</td>\n      <td>NaN</td>\n      <td>NaN</td>\n      <td>NaN</td>\n    </tr>\n    <tr>\n      <th>2</th>\n      <td>Bedminster Township</td>\n      <td>8112.0</td>\n      <td>382800.0</td>\n      <td>Dense</td>\n      <td>NaN</td>\n      <td>NaN</td>\n      <td>NaN</td>\n      <td>NaN</td>\n      <td>NaN</td>\n    </tr>\n    <tr>\n      <th>3</th>\n      <td>Dayton</td>\n      <td>7340.0</td>\n      <td>385400.0</td>\n      <td>Sparse</td>\n      <td>NaN</td>\n      <td>NaN</td>\n      <td>NaN</td>\n      <td>NaN</td>\n      <td>NaN</td>\n    </tr>\n    <tr>\n      <th>4</th>\n      <td>Kendall Park</td>\n      <td>9346.0</td>\n      <td>397100.0</td>\n      <td>Sparse</td>\n      <td>NaN</td>\n      <td>NaN</td>\n      <td>NaN</td>\n      <td>NaN</td>\n      <td>NaN</td>\n    </tr>\n  </tbody>\n</table>\n</div>"
                    },
                    "metadata": {}
                }
            ]
        },
        {
            "metadata": {},
            "cell_type": "code",
            "source": "print(df_data_1)",
            "execution_count": 25,
            "outputs": [
                {
                    "output_type": "stream",
                    "text": "                 County  Population  Median Home Value    Density  Unnamed: 4  \\\n0     Monmouth Junction      3302.0            40700.0  Rural mix         NaN   \n1             Hartsdale      4822.0           280200.0      Urban         NaN   \n2   Bedminster Township      8112.0           382800.0      Dense         NaN   \n3                Dayton      7340.0           385400.0     Sparse         NaN   \n4          Kendall Park      9346.0           397100.0     Sparse         NaN   \n5             Chappaqua      1459.0           639400.0     Sparse         NaN   \n6            Glen Ridge      7573.0           644900.0      Dense         NaN   \n7        Mountain Lakes      4274.0           849100.0      Rural         NaN   \n8    Great Neck Gardens      1183.0           941800.0     Sparse         NaN   \n9            Greenville      7336.0           954400.0      Urban         NaN   \n10                  NaN         NaN                NaN        NaN         NaN   \n\n    Unnamed: 5  Unnamed: 6  Unnamed: 7  Unnamed: 8  \n0          NaN         NaN         NaN         NaN  \n1          NaN         NaN         NaN         NaN  \n2          NaN         NaN         NaN         NaN  \n3          NaN         NaN         NaN         NaN  \n4          NaN         NaN         NaN         NaN  \n5          NaN         NaN         NaN         NaN  \n6          NaN         NaN         NaN         NaN  \n7          NaN         NaN         NaN         NaN  \n8          NaN         NaN         NaN         NaN  \n9          NaN         NaN         NaN         NaN  \n10         NaN         NaN         NaN         NaN  \n",
                    "name": "stdout"
                }
            ]
        },
        {
            "metadata": {},
            "cell_type": "code",
            "source": "#clean data\ndf_data_1.dropna(how='all')",
            "execution_count": 33,
            "outputs": [
                {
                    "output_type": "execute_result",
                    "execution_count": 33,
                    "data": {
                        "text/plain": "                County  Population  Median Home Value    Density  Unnamed: 4  \\\n0    Monmouth Junction      3302.0            40700.0  Rural mix         NaN   \n1            Hartsdale      4822.0           280200.0      Urban         NaN   \n2  Bedminster Township      8112.0           382800.0      Dense         NaN   \n3               Dayton      7340.0           385400.0     Sparse         NaN   \n4         Kendall Park      9346.0           397100.0     Sparse         NaN   \n5            Chappaqua      1459.0           639400.0     Sparse         NaN   \n6           Glen Ridge      7573.0           644900.0      Dense         NaN   \n7       Mountain Lakes      4274.0           849100.0      Rural         NaN   \n8   Great Neck Gardens      1183.0           941800.0     Sparse         NaN   \n9           Greenville      7336.0           954400.0      Urban         NaN   \n\n   Unnamed: 5  Unnamed: 6  Unnamed: 7  Unnamed: 8  \n0         NaN         NaN         NaN         NaN  \n1         NaN         NaN         NaN         NaN  \n2         NaN         NaN         NaN         NaN  \n3         NaN         NaN         NaN         NaN  \n4         NaN         NaN         NaN         NaN  \n5         NaN         NaN         NaN         NaN  \n6         NaN         NaN         NaN         NaN  \n7         NaN         NaN         NaN         NaN  \n8         NaN         NaN         NaN         NaN  \n9         NaN         NaN         NaN         NaN  ",
                        "text/html": "<div>\n<style scoped>\n    .dataframe tbody tr th:only-of-type {\n        vertical-align: middle;\n    }\n\n    .dataframe tbody tr th {\n        vertical-align: top;\n    }\n\n    .dataframe thead th {\n        text-align: right;\n    }\n</style>\n<table border=\"1\" class=\"dataframe\">\n  <thead>\n    <tr style=\"text-align: right;\">\n      <th></th>\n      <th>County</th>\n      <th>Population</th>\n      <th>Median Home Value</th>\n      <th>Density</th>\n      <th>Unnamed: 4</th>\n      <th>Unnamed: 5</th>\n      <th>Unnamed: 6</th>\n      <th>Unnamed: 7</th>\n      <th>Unnamed: 8</th>\n    </tr>\n  </thead>\n  <tbody>\n    <tr>\n      <th>0</th>\n      <td>Monmouth Junction</td>\n      <td>3302.0</td>\n      <td>40700.0</td>\n      <td>Rural mix</td>\n      <td>NaN</td>\n      <td>NaN</td>\n      <td>NaN</td>\n      <td>NaN</td>\n      <td>NaN</td>\n    </tr>\n    <tr>\n      <th>1</th>\n      <td>Hartsdale</td>\n      <td>4822.0</td>\n      <td>280200.0</td>\n      <td>Urban</td>\n      <td>NaN</td>\n      <td>NaN</td>\n      <td>NaN</td>\n      <td>NaN</td>\n      <td>NaN</td>\n    </tr>\n    <tr>\n      <th>2</th>\n      <td>Bedminster Township</td>\n      <td>8112.0</td>\n      <td>382800.0</td>\n      <td>Dense</td>\n      <td>NaN</td>\n      <td>NaN</td>\n      <td>NaN</td>\n      <td>NaN</td>\n      <td>NaN</td>\n    </tr>\n    <tr>\n      <th>3</th>\n      <td>Dayton</td>\n      <td>7340.0</td>\n      <td>385400.0</td>\n      <td>Sparse</td>\n      <td>NaN</td>\n      <td>NaN</td>\n      <td>NaN</td>\n      <td>NaN</td>\n      <td>NaN</td>\n    </tr>\n    <tr>\n      <th>4</th>\n      <td>Kendall Park</td>\n      <td>9346.0</td>\n      <td>397100.0</td>\n      <td>Sparse</td>\n      <td>NaN</td>\n      <td>NaN</td>\n      <td>NaN</td>\n      <td>NaN</td>\n      <td>NaN</td>\n    </tr>\n    <tr>\n      <th>5</th>\n      <td>Chappaqua</td>\n      <td>1459.0</td>\n      <td>639400.0</td>\n      <td>Sparse</td>\n      <td>NaN</td>\n      <td>NaN</td>\n      <td>NaN</td>\n      <td>NaN</td>\n      <td>NaN</td>\n    </tr>\n    <tr>\n      <th>6</th>\n      <td>Glen Ridge</td>\n      <td>7573.0</td>\n      <td>644900.0</td>\n      <td>Dense</td>\n      <td>NaN</td>\n      <td>NaN</td>\n      <td>NaN</td>\n      <td>NaN</td>\n      <td>NaN</td>\n    </tr>\n    <tr>\n      <th>7</th>\n      <td>Mountain Lakes</td>\n      <td>4274.0</td>\n      <td>849100.0</td>\n      <td>Rural</td>\n      <td>NaN</td>\n      <td>NaN</td>\n      <td>NaN</td>\n      <td>NaN</td>\n      <td>NaN</td>\n    </tr>\n    <tr>\n      <th>8</th>\n      <td>Great Neck Gardens</td>\n      <td>1183.0</td>\n      <td>941800.0</td>\n      <td>Sparse</td>\n      <td>NaN</td>\n      <td>NaN</td>\n      <td>NaN</td>\n      <td>NaN</td>\n      <td>NaN</td>\n    </tr>\n    <tr>\n      <th>9</th>\n      <td>Greenville</td>\n      <td>7336.0</td>\n      <td>954400.0</td>\n      <td>Urban</td>\n      <td>NaN</td>\n      <td>NaN</td>\n      <td>NaN</td>\n      <td>NaN</td>\n      <td>NaN</td>\n    </tr>\n  </tbody>\n</table>\n</div>"
                    },
                    "metadata": {}
                }
            ]
        },
        {
            "metadata": {},
            "cell_type": "code",
            "source": "CLIENT_ID = '1Y3CSAV1RDTMXIWPD3KQRUGYECV5E3H51M02Y3GGB0XZ1Z0B' # Foursquare ID\nCLIENT_SECRET = 'PL2BXG3QUXGXJX4DSH4EJR3OQBOXGM01W0JV0PEL0U5POM0K' # Foursquare Secret\nVERSION = '20200616'\nLIMIT = 30\nprint('Your credentails:')\nprint('CLIENT_ID: ' + CLIENT_ID)\nprint('CLIENT_SECRET:' + CLIENT_SECRET)",
            "execution_count": 36,
            "outputs": [
                {
                    "output_type": "stream",
                    "text": "Your credentails:\nCLIENT_ID: 1Y3CSAV1RDTMXIWPD3KQRUGYECV5E3H51M02Y3GGB0XZ1Z0B\nCLIENT_SECRET:PL2BXG3QUXGXJX4DSH4EJR3OQBOXGM01W0JV0PEL0U5POM0K\n",
                    "name": "stdout"
                }
            ]
        },
        {
            "metadata": {},
            "cell_type": "code",
            "source": "#Find the Latitude and Longditude of Monmouth Junction\naddress = 'Monmouth Junction, USA'\n\ngeolocator = Nominatim(user_agent=\"foursquare_agent\")\nlocation = geolocator.geocode(address)\nlatitude = location.latitude\nlongitude = location.longitude\nprint(latitude, longitude)",
            "execution_count": 35,
            "outputs": [
                {
                    "output_type": "stream",
                    "text": "40.38399750000001 -74.53313441682633\n",
                    "name": "stdout"
                }
            ]
        },
        {
            "metadata": {},
            "cell_type": "code",
            "source": "#Set the query to find coffee shops within a 500 radius\nsearch_query = 'coffee'\nradius = 500\nprint(search_query)",
            "execution_count": 37,
            "outputs": [
                {
                    "output_type": "stream",
                    "text": "coffee\n",
                    "name": "stdout"
                }
            ]
        },
        {
            "metadata": {},
            "cell_type": "code",
            "source": "#Set the URL\nurl = 'https://api.foursquare.com/v2/venues/search?client_id={}&client_secret={}&ll={},{}&v={}&query={}&radius={}&limit={}'.format(CLIENT_ID, CLIENT_SECRET, latitude, longitude, VERSION, search_query, radius, LIMIT)\nurl",
            "execution_count": 38,
            "outputs": [
                {
                    "output_type": "execute_result",
                    "execution_count": 38,
                    "data": {
                        "text/plain": "'https://api.foursquare.com/v2/venues/search?client_id=1Y3CSAV1RDTMXIWPD3KQRUGYECV5E3H51M02Y3GGB0XZ1Z0B&client_secret=PL2BXG3QUXGXJX4DSH4EJR3OQBOXGM01W0JV0PEL0U5POM0K&ll=40.38399750000001,-74.53313441682633&v=20200616&query=coffee&radius=500&limit=30'"
                    },
                    "metadata": {}
                }
            ]
        },
        {
            "metadata": {},
            "cell_type": "code",
            "source": "results = requests.get(url).json()\nresults",
            "execution_count": 39,
            "outputs": [
                {
                    "output_type": "execute_result",
                    "execution_count": 39,
                    "data": {
                        "text/plain": "{'meta': {'code': 200, 'requestId': '5ee8b974237de1699255d770'},\n 'response': {'venues': [{'id': '5213e8ca11d268ac0a98879f',\n    'name': \"Grover's Mill Coffee House\",\n    'location': {'address': '110 Kingston Ln',\n     'crossStreet': 'inside South Brunswick Public Library',\n     'lat': 40.383958,\n     'lng': -74.53044799999999,\n     'labeledLatLngs': [{'label': 'display',\n       'lat': 40.383958,\n       'lng': -74.53044799999999}],\n     'distance': 227,\n     'postalCode': '08852',\n     'cc': 'US',\n     'city': 'Monmouth Junction',\n     'state': 'NJ',\n     'country': 'United States',\n     'formattedAddress': ['110 Kingston Ln (inside South Brunswick Public Library)',\n      'Monmouth Junction, NJ 08852',\n      'United States']},\n    'categories': [{'id': '4bf58dd8d48988d1e0931735',\n      'name': 'Coffee Shop',\n      'pluralName': 'Coffee Shops',\n      'shortName': 'Coffee Shop',\n      'icon': {'prefix': 'https://ss3.4sqi.net/img/categories_v2/food/coffeeshop_',\n       'suffix': '.png'},\n      'primary': True}],\n    'referralId': 'v-1592310144',\n    'hasPerk': False}]}}"
                    },
                    "metadata": {}
                }
            ]
        },
        {
            "metadata": {},
            "cell_type": "code",
            "source": "# assign relevant part of JSON to venues\nvenues = results['response']['venues']\n\n# tranform venues into a dataframe\ndataframe = json_normalize(venues)\ndataframe.head()",
            "execution_count": 40,
            "outputs": [
                {
                    "output_type": "execute_result",
                    "execution_count": 40,
                    "data": {
                        "text/plain": "                                          categories  hasPerk  \\\n0  [{'id': '4bf58dd8d48988d1e0931735', 'name': 'C...    False   \n\n                         id location.address location.cc      location.city  \\\n0  5213e8ca11d268ac0a98879f  110 Kingston Ln          US  Monmouth Junction   \n\n  location.country                   location.crossStreet  location.distance  \\\n0    United States  inside South Brunswick Public Library                227   \n\n                           location.formattedAddress  \\\n0  [110 Kingston Ln (inside South Brunswick Publi...   \n\n                             location.labeledLatLngs  location.lat  \\\n0  [{'label': 'display', 'lat': 40.383958, 'lng':...     40.383958   \n\n   location.lng location.postalCode location.state  \\\n0    -74.530448               08852             NJ   \n\n                         name    referralId  \n0  Grover's Mill Coffee House  v-1592310144  ",
                        "text/html": "<div>\n<style scoped>\n    .dataframe tbody tr th:only-of-type {\n        vertical-align: middle;\n    }\n\n    .dataframe tbody tr th {\n        vertical-align: top;\n    }\n\n    .dataframe thead th {\n        text-align: right;\n    }\n</style>\n<table border=\"1\" class=\"dataframe\">\n  <thead>\n    <tr style=\"text-align: right;\">\n      <th></th>\n      <th>categories</th>\n      <th>hasPerk</th>\n      <th>id</th>\n      <th>location.address</th>\n      <th>location.cc</th>\n      <th>location.city</th>\n      <th>location.country</th>\n      <th>location.crossStreet</th>\n      <th>location.distance</th>\n      <th>location.formattedAddress</th>\n      <th>location.labeledLatLngs</th>\n      <th>location.lat</th>\n      <th>location.lng</th>\n      <th>location.postalCode</th>\n      <th>location.state</th>\n      <th>name</th>\n      <th>referralId</th>\n    </tr>\n  </thead>\n  <tbody>\n    <tr>\n      <th>0</th>\n      <td>[{'id': '4bf58dd8d48988d1e0931735', 'name': 'C...</td>\n      <td>False</td>\n      <td>5213e8ca11d268ac0a98879f</td>\n      <td>110 Kingston Ln</td>\n      <td>US</td>\n      <td>Monmouth Junction</td>\n      <td>United States</td>\n      <td>inside South Brunswick Public Library</td>\n      <td>227</td>\n      <td>[110 Kingston Ln (inside South Brunswick Publi...</td>\n      <td>[{'label': 'display', 'lat': 40.383958, 'lng':...</td>\n      <td>40.383958</td>\n      <td>-74.530448</td>\n      <td>08852</td>\n      <td>NJ</td>\n      <td>Grover's Mill Coffee House</td>\n      <td>v-1592310144</td>\n    </tr>\n  </tbody>\n</table>\n</div>"
                    },
                    "metadata": {}
                }
            ]
        },
        {
            "metadata": {},
            "cell_type": "code",
            "source": "# keep only columns that include venue name, and anything that is associated with location\nfiltered_columns = ['name', 'categories'] + [col for col in dataframe.columns if col.startswith('location.')] + ['id']\ndataframe_filtered = dataframe.loc[:, filtered_columns]\n\n# function that extracts the category of the venue\ndef get_category_type(row):\n    try:\n        categories_list = row['categories']\n    except:\n        categories_list = row['venue.categories']\n        \n    if len(categories_list) == 0:\n        return None\n    else:\n        return categories_list[0]['name']\n\n# filter the category for each row\ndataframe_filtered['categories'] = dataframe_filtered.apply(get_category_type, axis=1)\n\n# clean column names by keeping only last term\ndataframe_filtered.columns = [column.split('.')[-1] for column in dataframe_filtered.columns]\n\ndataframe_filtered",
            "execution_count": 41,
            "outputs": [
                {
                    "output_type": "execute_result",
                    "execution_count": 41,
                    "data": {
                        "text/plain": "                         name   categories          address  cc  \\\n0  Grover's Mill Coffee House  Coffee Shop  110 Kingston Ln  US   \n\n                city        country                            crossStreet  \\\n0  Monmouth Junction  United States  inside South Brunswick Public Library   \n\n   distance                                   formattedAddress  \\\n0       227  [110 Kingston Ln (inside South Brunswick Publi...   \n\n                                      labeledLatLngs        lat        lng  \\\n0  [{'label': 'display', 'lat': 40.383958, 'lng':...  40.383958 -74.530448   \n\n  postalCode state                        id  \n0      08852    NJ  5213e8ca11d268ac0a98879f  ",
                        "text/html": "<div>\n<style scoped>\n    .dataframe tbody tr th:only-of-type {\n        vertical-align: middle;\n    }\n\n    .dataframe tbody tr th {\n        vertical-align: top;\n    }\n\n    .dataframe thead th {\n        text-align: right;\n    }\n</style>\n<table border=\"1\" class=\"dataframe\">\n  <thead>\n    <tr style=\"text-align: right;\">\n      <th></th>\n      <th>name</th>\n      <th>categories</th>\n      <th>address</th>\n      <th>cc</th>\n      <th>city</th>\n      <th>country</th>\n      <th>crossStreet</th>\n      <th>distance</th>\n      <th>formattedAddress</th>\n      <th>labeledLatLngs</th>\n      <th>lat</th>\n      <th>lng</th>\n      <th>postalCode</th>\n      <th>state</th>\n      <th>id</th>\n    </tr>\n  </thead>\n  <tbody>\n    <tr>\n      <th>0</th>\n      <td>Grover's Mill Coffee House</td>\n      <td>Coffee Shop</td>\n      <td>110 Kingston Ln</td>\n      <td>US</td>\n      <td>Monmouth Junction</td>\n      <td>United States</td>\n      <td>inside South Brunswick Public Library</td>\n      <td>227</td>\n      <td>[110 Kingston Ln (inside South Brunswick Publi...</td>\n      <td>[{'label': 'display', 'lat': 40.383958, 'lng':...</td>\n      <td>40.383958</td>\n      <td>-74.530448</td>\n      <td>08852</td>\n      <td>NJ</td>\n      <td>5213e8ca11d268ac0a98879f</td>\n    </tr>\n  </tbody>\n</table>\n</div>"
                    },
                    "metadata": {}
                }
            ]
        },
        {
            "metadata": {},
            "cell_type": "code",
            "source": "dataframe_filtered.name",
            "execution_count": 42,
            "outputs": [
                {
                    "output_type": "execute_result",
                    "execution_count": 42,
                    "data": {
                        "text/plain": "0    Grover's Mill Coffee House\nName: name, dtype: object"
                    },
                    "metadata": {}
                }
            ]
        },
        {
            "metadata": {},
            "cell_type": "code",
            "source": "venues_map = folium.Map(location=[latitude, longitude], zoom_start=13) # generate map centred around Monmouth Junction\n\n# add the Italian restaurants as blue circle markers\nfor lat, lng, label in zip(dataframe_filtered.lat, dataframe_filtered.lng, dataframe_filtered.categories):\n    folium.CircleMarker(\n        [lat, lng],\n        radius=5,\n        color='blue',\n        popup=label,\n        fill = True,\n        fill_color='blue',\n        fill_opacity=0.6\n    ).add_to(venues_map)\n\nvenues_map",
            "execution_count": 49,
            "outputs": [
                {
                    "output_type": "execute_result",
                    "execution_count": 49,
                    "data": {
                        "text/plain": "<folium.folium.Map at 0x7f56496cd3c8>",
                        "text/html": "<div style=\"width:100%;\"><div style=\"position:relative;width:100%;height:0;padding-bottom:60%;\"><span style=\"color:#565656\">Make this Notebook Trusted to load map: File -> Trust Notebook</span><iframe src=\"about:blank\" style=\"position:absolute;width:100%;height:100%;left:0;top:0;border:none !important;\" data-html=PCFET0NUWVBFIGh0bWw+CjxoZWFkPiAgICAKICAgIDxtZXRhIGh0dHAtZXF1aXY9ImNvbnRlbnQtdHlwZSIgY29udGVudD0idGV4dC9odG1sOyBjaGFyc2V0PVVURi04IiAvPgogICAgCiAgICAgICAgPHNjcmlwdD4KICAgICAgICAgICAgTF9OT19UT1VDSCA9IGZhbHNlOwogICAgICAgICAgICBMX0RJU0FCTEVfM0QgPSBmYWxzZTsKICAgICAgICA8L3NjcmlwdD4KICAgIAogICAgPHNjcmlwdCBzcmM9Imh0dHBzOi8vY2RuLmpzZGVsaXZyLm5ldC9ucG0vbGVhZmxldEAxLjYuMC9kaXN0L2xlYWZsZXQuanMiPjwvc2NyaXB0PgogICAgPHNjcmlwdCBzcmM9Imh0dHBzOi8vY29kZS5qcXVlcnkuY29tL2pxdWVyeS0xLjEyLjQubWluLmpzIj48L3NjcmlwdD4KICAgIDxzY3JpcHQgc3JjPSJodHRwczovL21heGNkbi5ib290c3RyYXBjZG4uY29tL2Jvb3RzdHJhcC8zLjIuMC9qcy9ib290c3RyYXAubWluLmpzIj48L3NjcmlwdD4KICAgIDxzY3JpcHQgc3JjPSJodHRwczovL2NkbmpzLmNsb3VkZmxhcmUuY29tL2FqYXgvbGlicy9MZWFmbGV0LmF3ZXNvbWUtbWFya2Vycy8yLjAuMi9sZWFmbGV0LmF3ZXNvbWUtbWFya2Vycy5qcyI+PC9zY3JpcHQ+CiAgICA8bGluayByZWw9InN0eWxlc2hlZXQiIGhyZWY9Imh0dHBzOi8vY2RuLmpzZGVsaXZyLm5ldC9ucG0vbGVhZmxldEAxLjYuMC9kaXN0L2xlYWZsZXQuY3NzIi8+CiAgICA8bGluayByZWw9InN0eWxlc2hlZXQiIGhyZWY9Imh0dHBzOi8vbWF4Y2RuLmJvb3RzdHJhcGNkbi5jb20vYm9vdHN0cmFwLzMuMi4wL2Nzcy9ib290c3RyYXAubWluLmNzcyIvPgogICAgPGxpbmsgcmVsPSJzdHlsZXNoZWV0IiBocmVmPSJodHRwczovL21heGNkbi5ib290c3RyYXBjZG4uY29tL2Jvb3RzdHJhcC8zLjIuMC9jc3MvYm9vdHN0cmFwLXRoZW1lLm1pbi5jc3MiLz4KICAgIDxsaW5rIHJlbD0ic3R5bGVzaGVldCIgaHJlZj0iaHR0cHM6Ly9tYXhjZG4uYm9vdHN0cmFwY2RuLmNvbS9mb250LWF3ZXNvbWUvNC42LjMvY3NzL2ZvbnQtYXdlc29tZS5taW4uY3NzIi8+CiAgICA8bGluayByZWw9InN0eWxlc2hlZXQiIGhyZWY9Imh0dHBzOi8vY2RuanMuY2xvdWRmbGFyZS5jb20vYWpheC9saWJzL0xlYWZsZXQuYXdlc29tZS1tYXJrZXJzLzIuMC4yL2xlYWZsZXQuYXdlc29tZS1tYXJrZXJzLmNzcyIvPgogICAgPGxpbmsgcmVsPSJzdHlsZXNoZWV0IiBocmVmPSJodHRwczovL3Jhd2Nkbi5naXRoYWNrLmNvbS9weXRob24tdmlzdWFsaXphdGlvbi9mb2xpdW0vbWFzdGVyL2ZvbGl1bS90ZW1wbGF0ZXMvbGVhZmxldC5hd2Vzb21lLnJvdGF0ZS5jc3MiLz4KICAgIDxzdHlsZT5odG1sLCBib2R5IHt3aWR0aDogMTAwJTtoZWlnaHQ6IDEwMCU7bWFyZ2luOiAwO3BhZGRpbmc6IDA7fTwvc3R5bGU+CiAgICA8c3R5bGU+I21hcCB7cG9zaXRpb246YWJzb2x1dGU7dG9wOjA7Ym90dG9tOjA7cmlnaHQ6MDtsZWZ0OjA7fTwvc3R5bGU+CiAgICAKICAgICAgICAgICAgPG1ldGEgbmFtZT0idmlld3BvcnQiIGNvbnRlbnQ9IndpZHRoPWRldmljZS13aWR0aCwKICAgICAgICAgICAgICAgIGluaXRpYWwtc2NhbGU9MS4wLCBtYXhpbXVtLXNjYWxlPTEuMCwgdXNlci1zY2FsYWJsZT1ubyIgLz4KICAgICAgICAgICAgPHN0eWxlPgogICAgICAgICAgICAgICAgI21hcF8yMmQzNGRhYmZmZmQ0ZTFiODZiNzNmYTY5ZTBkMTg4MiB7CiAgICAgICAgICAgICAgICAgICAgcG9zaXRpb246IHJlbGF0aXZlOwogICAgICAgICAgICAgICAgICAgIHdpZHRoOiAxMDAuMCU7CiAgICAgICAgICAgICAgICAgICAgaGVpZ2h0OiAxMDAuMCU7CiAgICAgICAgICAgICAgICAgICAgbGVmdDogMC4wJTsKICAgICAgICAgICAgICAgICAgICB0b3A6IDAuMCU7CiAgICAgICAgICAgICAgICB9CiAgICAgICAgICAgIDwvc3R5bGU+CiAgICAgICAgCjwvaGVhZD4KPGJvZHk+ICAgIAogICAgCiAgICAgICAgICAgIDxkaXYgY2xhc3M9ImZvbGl1bS1tYXAiIGlkPSJtYXBfMjJkMzRkYWJmZmZkNGUxYjg2YjczZmE2OWUwZDE4ODIiID48L2Rpdj4KICAgICAgICAKPC9ib2R5Pgo8c2NyaXB0PiAgICAKICAgIAogICAgICAgICAgICB2YXIgbWFwXzIyZDM0ZGFiZmZmZDRlMWI4NmI3M2ZhNjllMGQxODgyID0gTC5tYXAoCiAgICAgICAgICAgICAgICAibWFwXzIyZDM0ZGFiZmZmZDRlMWI4NmI3M2ZhNjllMGQxODgyIiwKICAgICAgICAgICAgICAgIHsKICAgICAgICAgICAgICAgICAgICBjZW50ZXI6IFs0MC4zODM5OTc1MDAwMDAwMSwgLTc0LjUzMzEzNDQxNjgyNjMzXSwKICAgICAgICAgICAgICAgICAgICBjcnM6IEwuQ1JTLkVQU0czODU3LAogICAgICAgICAgICAgICAgICAgIHpvb206IDEzLAogICAgICAgICAgICAgICAgICAgIHpvb21Db250cm9sOiB0cnVlLAogICAgICAgICAgICAgICAgICAgIHByZWZlckNhbnZhczogZmFsc2UsCiAgICAgICAgICAgICAgICB9CiAgICAgICAgICAgICk7CgogICAgICAgICAgICAKCiAgICAgICAgCiAgICAKICAgICAgICAgICAgdmFyIHRpbGVfbGF5ZXJfOWI3ODE3NWY5NTNlNGRhNTgzZTU3ODY4N2NmMTI1MjYgPSBMLnRpbGVMYXllcigKICAgICAgICAgICAgICAgICJodHRwczovL3tzfS50aWxlLm9wZW5zdHJlZXRtYXAub3JnL3t6fS97eH0ve3l9LnBuZyIsCiAgICAgICAgICAgICAgICB7ImF0dHJpYnV0aW9uIjogIkRhdGEgYnkgXHUwMDI2Y29weTsgXHUwMDNjYSBocmVmPVwiaHR0cDovL29wZW5zdHJlZXRtYXAub3JnXCJcdTAwM2VPcGVuU3RyZWV0TWFwXHUwMDNjL2FcdTAwM2UsIHVuZGVyIFx1MDAzY2EgaHJlZj1cImh0dHA6Ly93d3cub3BlbnN0cmVldG1hcC5vcmcvY29weXJpZ2h0XCJcdTAwM2VPRGJMXHUwMDNjL2FcdTAwM2UuIiwgImRldGVjdFJldGluYSI6IGZhbHNlLCAibWF4TmF0aXZlWm9vbSI6IDE4LCAibWF4Wm9vbSI6IDE4LCAibWluWm9vbSI6IDAsICJub1dyYXAiOiBmYWxzZSwgIm9wYWNpdHkiOiAxLCAic3ViZG9tYWlucyI6ICJhYmMiLCAidG1zIjogZmFsc2V9CiAgICAgICAgICAgICkuYWRkVG8obWFwXzIyZDM0ZGFiZmZmZDRlMWI4NmI3M2ZhNjllMGQxODgyKTsKICAgICAgICAKICAgIAogICAgICAgICAgICB2YXIgY2lyY2xlX21hcmtlcl9hZWQ5ZjY2ODYzNmE0YmU5OTFkNDQ3ODkwOGFhZWFhNiA9IEwuY2lyY2xlTWFya2VyKAogICAgICAgICAgICAgICAgWzQwLjM4Mzk1OCwgLTc0LjUzMDQ0Nzk5OTk5OTk5XSwKICAgICAgICAgICAgICAgIHsiYnViYmxpbmdNb3VzZUV2ZW50cyI6IHRydWUsICJjb2xvciI6ICJibHVlIiwgImRhc2hBcnJheSI6IG51bGwsICJkYXNoT2Zmc2V0IjogbnVsbCwgImZpbGwiOiB0cnVlLCAiZmlsbENvbG9yIjogImJsdWUiLCAiZmlsbE9wYWNpdHkiOiAwLjYsICJmaWxsUnVsZSI6ICJldmVub2RkIiwgImxpbmVDYXAiOiAicm91bmQiLCAibGluZUpvaW4iOiAicm91bmQiLCAib3BhY2l0eSI6IDEuMCwgInJhZGl1cyI6IDUsICJzdHJva2UiOiB0cnVlLCAid2VpZ2h0IjogM30KICAgICAgICAgICAgKS5hZGRUbyhtYXBfMjJkMzRkYWJmZmZkNGUxYjg2YjczZmE2OWUwZDE4ODIpOwogICAgICAgIAogICAgCiAgICAgICAgdmFyIHBvcHVwXzc3NmU3ZjFkNGI2YzQwODE4YTU0M2FhNzY0ZjRlMWEzID0gTC5wb3B1cCh7Im1heFdpZHRoIjogIjEwMCUifSk7CgogICAgICAgIAogICAgICAgICAgICB2YXIgaHRtbF8wNTJkYjFlNTUzYmY0YWVhYmM4MjcwNGNlMmRkMjNhZSA9ICQoYDxkaXYgaWQ9Imh0bWxfMDUyZGIxZTU1M2JmNGFlYWJjODI3MDRjZTJkZDIzYWUiIHN0eWxlPSJ3aWR0aDogMTAwLjAlOyBoZWlnaHQ6IDEwMC4wJTsiPkNvZmZlZSBTaG9wPC9kaXY+YClbMF07CiAgICAgICAgICAgIHBvcHVwXzc3NmU3ZjFkNGI2YzQwODE4YTU0M2FhNzY0ZjRlMWEzLnNldENvbnRlbnQoaHRtbF8wNTJkYjFlNTUzYmY0YWVhYmM4MjcwNGNlMmRkMjNhZSk7CiAgICAgICAgCgogICAgICAgIGNpcmNsZV9tYXJrZXJfYWVkOWY2Njg2MzZhNGJlOTkxZDQ0Nzg5MDhhYWVhYTYuYmluZFBvcHVwKHBvcHVwXzc3NmU3ZjFkNGI2YzQwODE4YTU0M2FhNzY0ZjRlMWEzKQogICAgICAgIDsKCiAgICAgICAgCiAgICAKPC9zY3JpcHQ+ onload=\"this.contentDocument.open();this.contentDocument.write(atob(this.getAttribute('data-html')));this.contentDocument.close();\" allowfullscreen webkitallowfullscreen mozallowfullscreen></iframe></div></div>"
                    },
                    "metadata": {}
                }
            ]
        },
        {
            "metadata": {},
            "cell_type": "code",
            "source": "",
            "execution_count": null,
            "outputs": []
        }
    ],
    "metadata": {
        "kernelspec": {
            "name": "python3",
            "display_name": "Python 3.6",
            "language": "python"
        },
        "language_info": {
            "name": "python",
            "version": "3.6.9",
            "mimetype": "text/x-python",
            "codemirror_mode": {
                "name": "ipython",
                "version": 3
            },
            "pygments_lexer": "ipython3",
            "nbconvert_exporter": "python",
            "file_extension": ".py"
        }
    },
    "nbformat": 4,
    "nbformat_minor": 1
}